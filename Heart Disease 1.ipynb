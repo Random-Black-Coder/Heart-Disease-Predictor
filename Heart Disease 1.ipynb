{
 "cells": [
  {
   "cell_type": "markdown",
   "metadata": {},
   "source": [
    "# The Best Heart Disease Prediction \n",
    "\n",
    "### Goal: \n",
    "\n",
    "#### To train 3 statistical models on a dataset of individuals with Heart disease. The dataset was provided by DataKind.\n",
    "\n",
    "### Problem type: \n",
    "\n",
    "#### Binary classification - Do they have heart disease? Yes or no?\n",
    "\n",
    "### Models: \n",
    "\n",
    "#### Logistic Regression\n",
    "\n",
    "Logistic regression works by...\n",
    "\n",
    "Strengths....\n",
    "\n",
    "Weaknesses....\n",
    "\n",
    "#### K Nearest Neighbors Classifer\n",
    "\n",
    "K Nearest Neightbors works by...\n",
    "\n",
    "Strengths...\n",
    "\n",
    "Weaknessess...\n",
    "\n",
    "\n",
    "#### Naive Bayes (Gaussian)\n",
    "\n",
    "Naive Bayes (Gaussian) works by...\n",
    "\n",
    "Strengths...\n",
    "\n",
    "Weaknesses..\n",
    "\n",
    "### Walkthrough\n",
    "\n",
    "Import Dependencies\n",
    "Import Data\n",
    "Explore Data\n",
    "Process Data\n",
    "Create Models\n",
    "Fit Models\n",
    "Test Models\n",
    "Conclusion\n",
    "\n",
    "### To Do\n",
    "\n",
    "1. Explain each models (how it predicts, strenghts vs. weaknesses)\n",
    "2. Log inference time for each model\n",
    "3. Explain each attribute\n",
    "4. Compare averages to national average, vs. world average\n",
    "5. Identify if some correlations exist.\n",
    "6. Implement cross validation and compare with current 80 to 20 split\n",
    "7. Add interactive widget using interactive and ipywidget"
   ]
  },
  {
   "cell_type": "markdown",
   "metadata": {},
   "source": [
    "### Import Dependencies"
   ]
  },
  {
   "cell_type": "code",
   "execution_count": 1,
   "metadata": {},
   "outputs": [],
   "source": [
    "#General\n",
    "import pandas as pd\n",
    "from matplotlib import pyplot as plt\n",
    "import numpy as np\n",
    "import ipywidgets as widgets\n",
    "\n",
    "#classification models\n",
    "from sklearn.linear_model import LogisticRegressionCV\n",
    "from sklearn.neighbors import KNeighborsClassifier\n",
    "from sklearn.naive_bayes import GaussianNB\n",
    "from sklearn import metrics \n",
    "from sklearn.model_selection import train_test_split"
   ]
  },
  {
   "cell_type": "markdown",
   "metadata": {},
   "source": [
    "### Import Data"
   ]
  },
  {
   "cell_type": "code",
   "execution_count": 9,
   "metadata": {},
   "outputs": [],
   "source": [
    "#training features\n",
    "train_features = pd.read_csv(r'C:\\Users\\Yahkeef_Davis\\Desktop\\Data_Science\\Heart_Disease_Kaggle\\train_values.csv')\n",
    "\n",
    "#training labels\n",
    "train_labels   = pd.read_csv(r'C:\\Users\\Yahkeef_Davis\\Desktop\\Data_Science\\Heart_Disease_Kaggle\\train_labels.csv')\n",
    "\n",
    "#merge features and labels\n",
    "train_data = train_features.merge(train_labels)"
   ]
  },
  {
   "cell_type": "markdown",
   "metadata": {},
   "source": [
    "## Explore Data"
   ]
  },
  {
   "cell_type": "code",
   "execution_count": 23,
   "metadata": {},
   "outputs": [
    {
     "data": {
      "text/html": [
       "<div>\n",
       "<style scoped>\n",
       "    .dataframe tbody tr th:only-of-type {\n",
       "        vertical-align: middle;\n",
       "    }\n",
       "\n",
       "    .dataframe tbody tr th {\n",
       "        vertical-align: top;\n",
       "    }\n",
       "\n",
       "    .dataframe thead th {\n",
       "        text-align: right;\n",
       "    }\n",
       "</style>\n",
       "<table border=\"1\" class=\"dataframe\">\n",
       "  <thead>\n",
       "    <tr style=\"text-align: right;\">\n",
       "      <th></th>\n",
       "      <th>patient_id</th>\n",
       "      <th>slope_of_peak_exercise_st_segment</th>\n",
       "      <th>thal</th>\n",
       "      <th>resting_blood_pressure</th>\n",
       "      <th>chest_pain_type</th>\n",
       "      <th>num_major_vessels</th>\n",
       "      <th>fasting_blood_sugar_gt_120_mg_per_dl</th>\n",
       "      <th>resting_ekg_results</th>\n",
       "      <th>serum_cholesterol_mg_per_dl</th>\n",
       "      <th>oldpeak_eq_st_depression</th>\n",
       "      <th>sex</th>\n",
       "      <th>age</th>\n",
       "      <th>max_heart_rate_achieved</th>\n",
       "      <th>exercise_induced_angina</th>\n",
       "      <th>heart_disease_present</th>\n",
       "    </tr>\n",
       "  </thead>\n",
       "  <tbody>\n",
       "    <tr>\n",
       "      <th>0</th>\n",
       "      <td>0z64un</td>\n",
       "      <td>1</td>\n",
       "      <td>normal</td>\n",
       "      <td>128</td>\n",
       "      <td>2</td>\n",
       "      <td>0</td>\n",
       "      <td>0</td>\n",
       "      <td>2</td>\n",
       "      <td>308</td>\n",
       "      <td>0.0</td>\n",
       "      <td>1</td>\n",
       "      <td>45</td>\n",
       "      <td>170</td>\n",
       "      <td>0</td>\n",
       "      <td>0</td>\n",
       "    </tr>\n",
       "    <tr>\n",
       "      <th>1</th>\n",
       "      <td>ryoo3j</td>\n",
       "      <td>2</td>\n",
       "      <td>normal</td>\n",
       "      <td>110</td>\n",
       "      <td>3</td>\n",
       "      <td>0</td>\n",
       "      <td>0</td>\n",
       "      <td>0</td>\n",
       "      <td>214</td>\n",
       "      <td>1.6</td>\n",
       "      <td>0</td>\n",
       "      <td>54</td>\n",
       "      <td>158</td>\n",
       "      <td>0</td>\n",
       "      <td>0</td>\n",
       "    </tr>\n",
       "    <tr>\n",
       "      <th>2</th>\n",
       "      <td>yt1s1x</td>\n",
       "      <td>1</td>\n",
       "      <td>normal</td>\n",
       "      <td>125</td>\n",
       "      <td>4</td>\n",
       "      <td>3</td>\n",
       "      <td>0</td>\n",
       "      <td>2</td>\n",
       "      <td>304</td>\n",
       "      <td>0.0</td>\n",
       "      <td>1</td>\n",
       "      <td>77</td>\n",
       "      <td>162</td>\n",
       "      <td>1</td>\n",
       "      <td>1</td>\n",
       "    </tr>\n",
       "    <tr>\n",
       "      <th>3</th>\n",
       "      <td>l2xjde</td>\n",
       "      <td>1</td>\n",
       "      <td>reversible_defect</td>\n",
       "      <td>152</td>\n",
       "      <td>4</td>\n",
       "      <td>0</td>\n",
       "      <td>0</td>\n",
       "      <td>0</td>\n",
       "      <td>223</td>\n",
       "      <td>0.0</td>\n",
       "      <td>1</td>\n",
       "      <td>40</td>\n",
       "      <td>181</td>\n",
       "      <td>0</td>\n",
       "      <td>1</td>\n",
       "    </tr>\n",
       "    <tr>\n",
       "      <th>4</th>\n",
       "      <td>oyt4ek</td>\n",
       "      <td>3</td>\n",
       "      <td>reversible_defect</td>\n",
       "      <td>178</td>\n",
       "      <td>1</td>\n",
       "      <td>0</td>\n",
       "      <td>0</td>\n",
       "      <td>2</td>\n",
       "      <td>270</td>\n",
       "      <td>4.2</td>\n",
       "      <td>1</td>\n",
       "      <td>59</td>\n",
       "      <td>145</td>\n",
       "      <td>0</td>\n",
       "      <td>0</td>\n",
       "    </tr>\n",
       "  </tbody>\n",
       "</table>\n",
       "</div>"
      ],
      "text/plain": [
       "  patient_id  slope_of_peak_exercise_st_segment               thal  \\\n",
       "0     0z64un                                  1             normal   \n",
       "1     ryoo3j                                  2             normal   \n",
       "2     yt1s1x                                  1             normal   \n",
       "3     l2xjde                                  1  reversible_defect   \n",
       "4     oyt4ek                                  3  reversible_defect   \n",
       "\n",
       "   resting_blood_pressure  chest_pain_type  num_major_vessels  \\\n",
       "0                     128                2                  0   \n",
       "1                     110                3                  0   \n",
       "2                     125                4                  3   \n",
       "3                     152                4                  0   \n",
       "4                     178                1                  0   \n",
       "\n",
       "   fasting_blood_sugar_gt_120_mg_per_dl  resting_ekg_results  \\\n",
       "0                                     0                    2   \n",
       "1                                     0                    0   \n",
       "2                                     0                    2   \n",
       "3                                     0                    0   \n",
       "4                                     0                    2   \n",
       "\n",
       "   serum_cholesterol_mg_per_dl  oldpeak_eq_st_depression  sex  age  \\\n",
       "0                          308                       0.0    1   45   \n",
       "1                          214                       1.6    0   54   \n",
       "2                          304                       0.0    1   77   \n",
       "3                          223                       0.0    1   40   \n",
       "4                          270                       4.2    1   59   \n",
       "\n",
       "   max_heart_rate_achieved  exercise_induced_angina  heart_disease_present  \n",
       "0                      170                        0                      0  \n",
       "1                      158                        0                      0  \n",
       "2                      162                        1                      1  \n",
       "3                      181                        0                      1  \n",
       "4                      145                        0                      0  "
      ]
     },
     "execution_count": 23,
     "metadata": {},
     "output_type": "execute_result"
    }
   ],
   "source": [
    "train_data.head()"
   ]
  },
  {
   "cell_type": "code",
   "execution_count": 31,
   "metadata": {},
   "outputs": [
    {
     "data": {
      "application/vnd.jupyter.widget-view+json": {
       "model_id": "4ca303a01b234ad4b8a5e03e033e0bc6",
       "version_major": 2,
       "version_minor": 0
      },
      "text/plain": [
       "Dropdown(description='Feature:', options=('Age', 'Resting Blood Pressure', 'Max Heart Rate Achieved', 'Serum C…"
      ]
     },
     "metadata": {},
     "output_type": "display_data"
    },
    {
     "name": "stdout",
     "output_type": "stream",
     "text": [
      "Max Heart Rate Achieved\n",
      "Min: 96\n",
      "Max: 202\n",
      "Median: 152.0\n",
      "Mean: 149.48333333333332\n"
     ]
    },
    {
     "data": {
      "image/png": "[encoded data removed]",
      "text/plain": [
       "<Figure size 432x288 with 1 Axes>"
      ]
     },
     "metadata": {
      "needs_background": "light"
     },
     "output_type": "display_data"
    }
   ],
   "source": [
    "dropdown = widgets.Dropdown(\n",
    "    options= ['Age', 'Resting Blood Pressure', 'Max Heart Rate Achieved', 'Serum Cholesterol'],\n",
    "    value='Age',\n",
    "    description='Feature:',\n",
    "    disabled=False,\n",
    ")\n",
    "\n",
    "display(dropdown)\n",
    "\n",
    "def summary(feature):\n",
    "    print('Min: %s' %np.min(train_data[feature])) \n",
    "    print('Max: %s' %np.max(train_data[feature]))\n",
    "    print('Median: %s' %np.median(train_data[feature]))\n",
    "    print('Mean: %s' %np.mean(train_data[feature]))\n",
    "    plt.hist(train_data[feature])\n",
    "    \n",
    "def summarize(change):\n",
    "    if change['new'] == 'Age':\n",
    "        feature = 'age'\n",
    "    elif change['new'] == 'Resting Blood Pressure':\n",
    "        feature = 'resting_blood_pressure'\n",
    "    elif change['new'] == 'Max Heart Rate Achieved':\n",
    "        feature = 'max_heart_rate_achieved'\n",
    "    elif change['new'] == 'Serum Cholesterol':\n",
    "        feature = 'serum_cholesterol_mg_per_dl'\n",
    "    else:\n",
    "        feature = 'age'\n",
    "    print(change['new'])\n",
    "    summary(feature) \n",
    "    \n",
    "    \n",
    "dropdown.observe(summarize, names= 'value') \n"
   ]
  },
  {
   "cell_type": "code",
   "execution_count": 32,
   "metadata": {},
   "outputs": [
    {
     "name": "stdout",
     "output_type": "stream",
     "text": [
      "                    Average age: 54.81111111111111\n",
      "                        Min age: 29\n",
      "                        Max age: 77\n",
      "                     Median age: 55.0\n",
      " Average resting blood pressure: 131.3111111111111\n",
      "Average max heart rate achieved: 149.48333333333332\n",
      "      Average serum cholesterol: 249.2111111111111\n"
     ]
    },
    {
     "data": {
      "text/plain": [
       "(array([100.,   0.,   0.,   0.,   0.,   0.,   0.,   0.,   0.,  80.]),\n",
       " array([0. , 0.1, 0.2, 0.3, 0.4, 0.5, 0.6, 0.7, 0.8, 0.9, 1. ]),\n",
       " <a list of 10 Patch objects>)"
      ]
     },
     "execution_count": 32,
     "metadata": {},
     "output_type": "execute_result"
    },
    {
     "data": {
      "image/png": "[encoded data removed]",
      "text/plain": [
       "<Figure size 432x288 with 1 Axes>"
      ]
     },
     "metadata": {
      "needs_background": "light"
     },
     "output_type": "display_data"
    }
   ],
   "source": [
    "print('                    Average age: %s' %np.mean(train_data['age']))\n",
    "print('                        Min age: %s' %np.min(train_data['age']))\n",
    "print('                        Max age: %s' %np.max(train_data['age']))\n",
    "print('                     Median age: %s' %np.median(train_data['age']))\n",
    "print(' Average resting blood pressure: %s' %np.mean(train_data['resting_blood_pressure']))\n",
    "print('Average max heart rate achieved: %s' %np.mean(train_data['max_heart_rate_achieved']))\n",
    "print('      Average serum cholesterol: %s' %np.mean(train_data['serum_cholesterol_mg_per_dl']))\n",
    "plt.hist(train_data['heart_disease_present'])"
   ]
  },
  {
   "cell_type": "markdown",
   "metadata": {},
   "source": [
    "### Process Data"
   ]
  },
  {
   "cell_type": "code",
   "execution_count": null,
   "metadata": {
    "scrolled": true
   },
   "outputs": [],
   "source": [
    "#set target variable\n",
    "y = train_data.heart_disease_present\n",
    "\n",
    "#remove redundant column\n",
    "train_data = train_data.drop(columns='patient_id')\n",
    "\n",
    "#convert categorical values into binary values\n",
    "train_data = pd.get_dummies(train_data, columns=['thal'], drop_first= True)\n",
    "\n",
    "#split the data into 80% train, 20% test\n",
    "train_features, test_features, train_labels, test_labels = train_test_split(train_data, y, test_size=0.2)"
   ]
  },
  {
   "cell_type": "markdown",
   "metadata": {},
   "source": [
    "### Create Models"
   ]
  },
  {
   "cell_type": "code",
   "execution_count": null,
   "metadata": {},
   "outputs": [],
   "source": [
    "LR_mdl = LogisticRegressionCV()\n",
    "KN_mdl = KNeighborsClassifier()\n",
    "NB_mdl = GaussianNB()"
   ]
  },
  {
   "cell_type": "markdown",
   "metadata": {},
   "source": [
    "### Train Models"
   ]
  },
  {
   "cell_type": "code",
   "execution_count": null,
   "metadata": {
    "scrolled": true
   },
   "outputs": [],
   "source": [
    "%%time\n",
    "print(LR_mdl.fit(train_features, train_labels.values))"
   ]
  },
  {
   "cell_type": "code",
   "execution_count": null,
   "metadata": {},
   "outputs": [],
   "source": [
    "%%time\n",
    "print(KN_mdl.fit(train_features, train_labels.values))"
   ]
  },
  {
   "cell_type": "code",
   "execution_count": null,
   "metadata": {},
   "outputs": [],
   "source": [
    "%%time\n",
    "print(NB_mdl.fit(train_features, train_labels.values))"
   ]
  },
  {
   "cell_type": "markdown",
   "metadata": {},
   "source": [
    "### Test Models"
   ]
  },
  {
   "cell_type": "code",
   "execution_count": null,
   "metadata": {},
   "outputs": [],
   "source": [
    "%%time\n",
    "predicted1 = LR_mdl.predict(test_features)\n",
    "print('Logistic Regression Model Accuracy: %s' % metrics.accuracy_score(test_labels,predicted1))"
   ]
  },
  {
   "cell_type": "code",
   "execution_count": null,
   "metadata": {},
   "outputs": [],
   "source": [
    "%%time\n",
    "predicted2 = KN_mdl.predict(test_features)\n",
    "print('K Nearest Neighbors Model Accuracy: %s' % metrics.accuracy_score(test_labels,predicted2))"
   ]
  },
  {
   "cell_type": "code",
   "execution_count": null,
   "metadata": {},
   "outputs": [],
   "source": [
    "%%time\n",
    "predicted3 = NB_mdl.predict(test_features)\n",
    "print('Naive Bayes Accuracy: %s' % metrics.accuracy_score(test_labels,predicted3))"
   ]
  },
  {
   "cell_type": "markdown",
   "metadata": {},
   "source": [
    "### Conclusion\n",
    "\n",
    "The Logistic Regression and Naive Bayes models significantly outperformed the K Nearest Neighbors model. This drastic difference in performance is likely to due to the number of neighbors (n = 5) was too high for such a small dataset. "
   ]
  }
 ],
 "metadata": {
  "kernelspec": {
   "display_name": "Python 3",
   "language": "python",
   "name": "python3"
  },
  "language_info": {
   "codemirror_mode": {
    "name": "ipython",
    "version": 3
   },
   "file_extension": ".py",
   "mimetype": "text/x-python",
   "name": "python",
   "nbconvert_exporter": "python",
   "pygments_lexer": "ipython3",
   "version": "3.7.0"
  }
 },
 "nbformat": 4,
 "nbformat_minor": 2
}
